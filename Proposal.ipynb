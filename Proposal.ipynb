{
 "cells": [
  {
   "cell_type": "markdown",
   "id": "5defb0c3-9458-4314-8250-2538b960dcb7",
   "metadata": {},
   "source": [
    "# Using age, cholestrol, maximum heart rate and resting blood pressure to classify heart disease patients from Cleveland #\n",
    "\n",
    "**John Mao, Caitlyn Chan and Ritaksha Roy Burman**\n",
    "\n",
    "\n",
    "### Introduction ###\n",
    "Cardiovascular heart diseases are the leading cause of death worldwide, accounting for an estimated 17.9 million casualties each year according to the [WHO.](https://www.who.int/health-topics/cardiovascular-diseases#tab=tab_1)\n",
    "\n",
    "Our project seeks to use age, cholesterol, maximum heart rate and resting blood pressure to diagnosis individuals with coronary artery disease, (CAD). CAD occurs when the arteries that deliver blood to the heart is reduced in diameter due to plaque buildup (CDC, 2021).\n",
    "\n",
    "The goal of this project is to classify patients of whether they have CAD for preventatitive interventions.\n",
    "\n",
    "The question we wish to answer is: \n",
    "**What is the likelihood a patient will have coronary artery disease based on age, sex, cholestrol levels, resting blood pressure and maximum heart rate achieved?**\n",
    "\n",
    "To answer this, we are using the [heart disease](https://archive.ics.uci.edu/dataset/45/heart+disease) database.\n",
    "\n",
    "We are then comparing this to the Switzerland [switzerland_heart_disease](https://archive.ics.uci.edu/ml/machine-learning-databases/heart-disease/processed.switzerland.data) database."
   ]
  },
  {
   "cell_type": "markdown",
   "id": "582fe0ec-aaff-4bcb-aef9-b737bcaa7a86",
   "metadata": {},
   "source": [
    "|variable | units | desription |\n",
    "|-------- | ----- | ---------- |\n",
    "| chol | mg/dl | serum cholestrol |\n",
    "| age | years | N/A |\n",
    "| trestbps | mmHg | resting blood pressure (on admission to hospital) |\n",
    "| num | N/A | 0 = unafflicted by disease, (1,2,3,4) showing presense of heart disease. |\n",
    "| thalach | N/A | maximum heart rate achieved (bpm) |\n",
    "| diagnosis | N/A | Diagnosis will be true or false relating to num |"
   ]
  },
  {
   "cell_type": "markdown",
   "id": "da3ef1ff-f8c9-43ed-86d2-7efaf583c959",
   "metadata": {},
   "source": [
    "\n",
    "### Methods ### - TO BE ALTERTED TO FIT OUR REPORT \n",
    "1. PReprocessing data\n",
    "2. finding best k value, visualizing the best k, underfitting/over fitting\n",
    "3. testing our classifier\n",
    "4. switzerland\n",
    "    \n",
    "We will be using variables from the Heart Disease Database, in particular the Cleaveland database:\n",
    "- chol : serium cholestoral in mg/dl\n",
    "- age : age in years\n",
    "- trestbps : resting blood pressure (in mm Hg on admission to hospital)\n",
    "- sex\n",
    "- num : 0 = unafflicted by disease, (1,2,3,4) showing presense of heart disease.\n",
    "- thalach: maximum heart rate achieved (bpm) \n",
    "\n",
    "To tidy the data, we have changed the sex and num (presense of heart disease) to factors. **num** uses integers 1 to 4 to determine diagnosis of CAD, thus we have created a new column which sets presence of heart disease (**num** > 0) to TRUE and absence (**num** = 0) to FALSE. \n",
    "\n",
    "\n",
    "The dataframe has been split into a training and testing set. The data is stratified by the categorical variable, **diagnosis**. \n",
    "\n",
    "To visualize the results of our data analysis, scatterplots of different numerical variables were plotted against eachother. \n",
    "\n",
    "* In the plot of **trestbp vs age**\n",
    "\n",
    "A distinct region of resting blood pressure is high in the ages of 50 to 70. \n",
    "\n",
    "* In the plot of **chol vs age**\n",
    "\n",
    "Women in the ages of 55-65 appear to be at risk whereas men appear to be at risk from ages 45 - 70.\n",
    "\n",
    "* In the plot of **thalach vs chol**\n",
    "\n",
    "There are distinct regions of TRUE and FALSE, and a mix of both. \n",
    "\n",
    "These relationships and distribution determined selection of **trestbp, age, thalach and chol** as predictors. \n",
    "\n",
    "We are going to train and classify using K-nearest neighbours to determine if a new patient is likely to be afflicted by heart disease.\n",
    "\n",
    "### Expected Outcomes and Significance ##\n",
    "We expect to see a positive trend with resting blood pressure and age. We also expect to see that on average, those  with heart diseases will have higher blood pressures.\n",
    "We wish to explore how sex impacts an individual's potential risk.\n",
    "\n",
    "This data anaylsis could be advantageous to enhance timely diagnosis of cardiovascular disease to help implement interventions and recognize risk factors. \n",
    "\n",
    "Future questions this could lead to: \n",
    "1. Which of the factors have the greatest influence on diagnosis of CAD?\n",
    "2. What are some preventative measures one can take to minimize risk of heart disease?\n",
    "\n",
    "\n",
    "### Bibliography ### \n",
    "\n",
    "Detrano, R., Janois, A., Steinbrunn, W., Pfisterer, Matthias., Schmid, Johann-Jakob., Sandhu, S., Guppy, KH., Lee, S., Froelicher, V. (1988). International Application of a New Probability Algorithm for the Diagnosis of Coronary Artery Disease. *The American Journal of Cardiology*, 64(1), 304-309.  https://doi.org/10.24432/C52P4X.\n",
    "\n",
    "Coronary Artery Disease. (2021, July 19). Centers for Disease Control and Prevention (CDC). https://www.cdc.gov/heartdisease/coronary_ad.htm\n",
    "\r\n",
    "\n",
    "Janosi, A ., Steinbrunn, W., Pfisterer, M., and Detrano, R. (1988). Heart Disease. UCI Machine Learning Repository. https://doi.org/10.24432/C52P4X.\n",
    "\n",
    "World Health Organization. (n.d.). https://www.who.int/health-topics/cardiovascular-diseases#tab=tab_1. \r\n",
    "\n",
    "\r\n",
    "\n",
    "\n",
    "    "
   ]
  },
  {
   "cell_type": "markdown",
   "id": "492abffa-0151-4f05-8068-a130b26374c2",
   "metadata": {},
   "source": [
    "### Preliminary exploratory data analysis ###\n",
    "We have 303 total rows of data amongst our 5 variables with no observations that contain missing data.\n",
    "\n"
   ]
  },
  {
   "cell_type": "markdown",
   "id": "8487475a-c958-4555-8b8c-7205be5c1e90",
   "metadata": {},
   "source": [
    "**Importing Libraries**"
   ]
  },
  {
   "cell_type": "code",
   "execution_count": null,
   "id": "91798358-4998-4c69-81fe-2252503f7810",
   "metadata": {},
   "outputs": [],
   "source": [
    "# importing libraries \n",
    "library(tidyverse)\n",
    "library(tidymodels)\n",
    "library(repr)\n",
    "library(dplyr)\n",
    "library(RColorBrewer)\n",
    "install.packages(\"caret\")\n",
    "library(caret)\n",
    "install.packages(\"Information\")\n",
    "library(Information)\n",
    "# formatting tables\n",
    "options(repr.matrix.max.rows = 6)"
   ]
  },
  {
   "cell_type": "markdown",
   "id": "da514d40-6e9d-4e5e-be59-f0d313e8e84e",
   "metadata": {},
   "source": [
    "**Importing and reading the data set from the web**"
   ]
  },
  {
   "cell_type": "code",
   "execution_count": null,
   "id": "9ed6c82b-35de-4272-849c-96c374687d7c",
   "metadata": {},
   "outputs": [],
   "source": [
    "# cleveland heart data\n",
    "heart_data <- read_csv(\"https://archive.ics.uci.edu/static/public/45/data.csv\")\n",
    "# switzerland data\n",
    "switzerland_data <- read_csv(\"https://archive.ics.uci.edu/ml/machine-learning-databases/heart-disease/processed.switzerland.data\", col_names = FALSE)\n"
   ]
  },
  {
   "cell_type": "markdown",
   "id": "af18af61-b939-4c58-92da-2a3214bf4954",
   "metadata": {},
   "source": [
    "**Cleaning and wrangling the data and splitting the data into training and testing sets**\n",
    "\n",
    "#To add minimal explanation later "
   ]
  },
  {
   "cell_type": "code",
   "execution_count": null,
   "id": "cedb255b-6f43-4a22-a7af-897c09992524",
   "metadata": {
    "scrolled": true
   },
   "outputs": [],
   "source": [
    "# set the seed \n",
    "set.seed(1)\n",
    "\n",
    "# cleaning and wrangling the data frame, selecting relevant columns\n",
    "heart_data_clean <- heart_data |>\n",
    "select(chol, trestbps, age, sex, thalach, num) |>\n",
    "mutate(diagnosis = as.factor(ifelse(is.na(num), NA, (num>0)))) |>\n",
    "mutate(sex = as_factor(sex))|>\n",
    "mutate(sex = fct_recode(sex, \"Male\" = \"1\", \"Female\" = \"0\")) |>\n",
    "mutate(num = as_factor(num)) \n",
    "\n",
    "# cleaning and wrangling switzerland data frame\n",
    "\n",
    "colnames(switzerland_data) <- c(\"age\", \"sex\", \"cp\", \"trestbps\", \"chol\", \"fbs\", \"restecg\", \"thalach\", \"exang\", \"oldpeak\", \"slope\", \"ca\", \"thal\", \"num\")\n",
    "\n",
    "switzerland_data_clean <- switzerland_data |>\n",
    "select(chol, trestbps, age, sex, thalach, num) |>\n",
    "mutate(diagnosis = ifelse(is.na(num), NA, (num>0))) |>\n",
    "mutate(sex = as_factor(sex))|>\n",
    "mutate(sex = fct_recode(sex, \"Male\" = \"1\", \"Female\" = \"0\")) |>\n",
    "mutate(num = as_factor(num)) \n",
    "\n",
    "# splitting data into training data set and testing data set \n",
    "heart_split <- initial_split(heart_data_clean, prop = 0.75, strata = num)\n",
    "\n",
    "heart_testing <- testing(heart_split)\n",
    "heart_training <- training(heart_split)\n",
    "\n",
    "heart_training\n",
    "print(paste(\"Total rows\", nrow(heart_data_clean)))\n",
    "print(paste(\"Rows with missing data\", sum(is.na(heart_data_clean))))\n",
    "\n"
   ]
  },
  {
   "cell_type": "markdown",
   "id": "cc5f584d-8279-449c-a5c7-395bdd7a5c31",
   "metadata": {},
   "source": [
    "**Summarizing the Training Data**\n",
    "\n",
    "Before we visualize and begin our prediction analysis, we need to check that the two predictor classes are balanced so that one class prediction is not favored over the other."
   ]
  },
  {
   "cell_type": "code",
   "execution_count": null,
   "id": "de8ff1d7-7437-423d-9edc-1190bc5b6620",
   "metadata": {},
   "outputs": [],
   "source": [
    "heart_summary_table <- heart_training |>\n",
    "                    group_by(diagnosis) |>\n",
    "                    summarize(count = n()) |>\n",
    "                    arrange(-count)\n",
    "heart_summary_table"
   ]
  },
  {
   "cell_type": "markdown",
   "id": "419a793c-458d-474d-b1f9-8781b4d17f98",
   "metadata": {},
   "source": [
    "Based off the above summary table, the counts for TRUE and FALSE heart disease diagnoses are roughly balanced in the training set. "
   ]
  },
  {
   "cell_type": "markdown",
   "id": "24b5b442-5a11-430b-99e1-5d4cccaa1698",
   "metadata": {},
   "source": [
    "**Visualizing the relationships between our chosen predictor variables and the class variable**\n",
    "#short explanation later "
   ]
  },
  {
   "cell_type": "code",
   "execution_count": null,
   "id": "db6ce9e7-e538-43cd-8bee-926084e5df89",
   "metadata": {
    "scrolled": true
   },
   "outputs": [],
   "source": [
    "options(repr.plot.width = 12, repr.plot.height = 5)\n",
    "# Plot the training data\n",
    "\n",
    "heart_plot1 <- heart_training |> \n",
    "            ggplot(aes(x= age, y= trestbps, color = diagnosis)) +\n",
    "            geom_point()+ \n",
    "            labs(x= \"Age\", y = \"Resting Blood Pressure \\n (mm Hg)\", fill = \"Diagnosis of Heart Disease\", color = \"Diagnosis of Heart Disease\", title = \"Resting Blood Pressure versus Age\", num = \"Diagnosis of Heart Disease\")+ # rename false and true \n",
    "            theme(text = element_text(size = 12))+\n",
    "            theme(plot.title = element_text(hjust = 0.5))\n",
    "heart_plot1\n",
    "\n",
    "\n",
    "heart_plot2 <- heart_training |>\n",
    "mutate(num = ifelse(num == 0, FALSE, TRUE)) |>\n",
    "ggplot(aes(x = age, y = chol, color = num)) + \n",
    "  geom_point() +\n",
    "  labs(num = \"Diagnosis of Heart Disease\",\n",
    "       color = \"Diagnosis of Heart Disease\",\n",
    "       title = \"Diagnosis of Heart Disease versus Cholesterol (mg/dl) and Age\",\n",
    "       y = \"Cholesterol (mg/dl)\", x= \"Age (years)\") +\n",
    "    theme(text = element_text(size = 13)) +\n",
    "    scale_size_discrete(range = c(1, 2)) +\n",
    "    facet_grid(cols = vars(sex))+\n",
    "    theme(plot.title = element_text(hjust = 0.5))\n",
    "\n",
    "\n",
    "heart_plot2\n",
    "\n",
    "heart_plot3 <- heart_training |> \n",
    "            ggplot(aes(x= chol, y= thalach, color = diagnosis)) +\n",
    "            geom_point()+ \n",
    "            labs(x= \"Cholestrol (mg/dl)\", y = \"Maximum Heart Rate (bpm)\", fill = \"Diagnosis of Heart Disease\", color = \"Diagnosis of Heart Disease\", title = \"Resting Blood Pressure versus Age\", num = \"Diagnosis of Heart Disease\")+ # rename false and true \n",
    "            theme(text = element_text(size = 12))+\n",
    "            theme(plot.title = element_text(hjust = 0.5))\n",
    "heart_plot3\n",
    "\n",
    "# change plot to thalac and age \n"
   ]
  },
  {
   "cell_type": "markdown",
   "id": "f296e6ea-7ce4-41be-9168-42997b2e103c",
   "metadata": {},
   "source": [
    "**Finding the best k value**\n",
    "#add explanation of steps later\n",
    "#visualzing accuracy using the accuracy vs knn plot -- ask TA about this maybe we can do a smoothness color plot to check for under/over fitting"
   ]
  },
  {
   "cell_type": "code",
   "execution_count": null,
   "id": "de3c3089-08c0-4735-817c-ddf15f3ad030",
   "metadata": {},
   "outputs": [],
   "source": [
    "options(repr.plot.width = 12, repr.plot.height = 6)\n",
    "\n",
    "# Create a recipe with the chosen predictor variables, standardize\n",
    "heart_recipe <- recipe(diagnosis ~ chol + thalach + trestbps + age, data = heart_training) |>\n",
    "                step_scale(all_predictors()) |>\n",
    "                step_center(all_predictors())\n",
    "\n",
    "# create a K-nearest neighbor model specification with tuning on the number of neighbors \n",
    "spec <- nearest_neighbor(weight_func = \"rectangular\", neighbors = tune()) |>\n",
    "        set_engine(\"kknn\") |>\n",
    "        set_mode(\"classification\") \n",
    "\n",
    "#10-fold cross validation \n",
    "heart_vfold <- vfold_cv(heart_training, v = 10, strata = diagnosis)\n",
    "gridvals <- tibble(neighbors = c(1:190))\n",
    "\n",
    "\n",
    "# create a workflow analysis, then collect metrics\n",
    "knn_results <- workflow() |>\n",
    "                add_recipe(heart_recipe) |>\n",
    "                add_model(spec) |>\n",
    "                tune_grid(resamples = heart_vfold, grid = gridvals) |>\n",
    "                collect_metrics()  \n",
    "\n",
    "# filter metrics for accuracy \n",
    "accuracies_lots <- knn_results |>\n",
    "                filter(.metric == \"accuracy\") |>\n",
    "                select(neighbors, mean) |>\n",
    "                arrange(-mean)\n",
    "\n",
    "# Visualize k accuracy \n",
    "cross_val_plot <- accuracies_lots |> # accuracies\n",
    "                ggplot(aes(x= neighbors, y = mean))+\n",
    "                geom_point() +\n",
    "                geom_line() +\n",
    "                labs(x= \"Neighbors\", y = \"Accuracy Estimate\")+\n",
    "                ggtitle(\"Cross Validation Accuracy vs Number of Neighbors\")+\n",
    "                theme(text = element_text(size = 15)) \n",
    "\n",
    "\n",
    "        \n",
    "\n",
    "cross_val_plot\n",
    "\n",
    "accuracies_lots"
   ]
  },
  {
   "cell_type": "markdown",
   "id": "9a1509df-fb71-4d0d-8cc4-8886bf303b80",
   "metadata": {},
   "source": [
    "**testing the classifier w/ confusion matrix, determining accuracy/recall/precision, testing our classifier against the majority classifier**\n",
    "#add explanation later "
   ]
  },
  {
   "cell_type": "code",
   "execution_count": null,
   "id": "6114b04c-e48f-4f1a-a174-e8a0e2a4706f",
   "metadata": {},
   "outputs": [],
   "source": [
    "best_k <- accuracies_lots |>\n",
    "        arrange(desc(mean)) |>\n",
    "        head(1) |>\n",
    "        pull(neighbors)\n",
    "\n",
    "spec_best_k <- nearest_neighbor(weight_func = \"rectangular\", neighbors = 23) |>\n",
    "        set_engine(\"kknn\") |>\n",
    "        set_mode(\"classification\") \n",
    "\n",
    "knn_best_results <- workflow() |>\n",
    "                add_recipe(heart_recipe) |>\n",
    "                add_model(spec_best_k) |>\n",
    "                fit(data = heart_training)\n",
    "\n",
    "heart_predictions <- predict(knn_best_results, heart_testing) |>\n",
    "                    bind_cols(heart_testing) |>\n",
    "                    select(diagnosis, .pred_class)\n",
    "\n",
    "heart_conf_mat <- heart_predictions |>\n",
    "                conf_mat(truth = diagnosis, estimate = .pred_class)\n",
    "\n",
    "# conf_table <- as.table(heart_conf_mat)\n",
    "heart_major <- heart_training |>\n",
    "            group_by(diagnosis) |>\n",
    "            summarise(n=n()) |>\n",
    "            mutate(percent = 100*n/nrow(heart_training))\n",
    "\n",
    "heart_major\n",
    "\n",
    "# heart_acc <- sum(diag(conf_table))/ sum(conf_table)\n",
    "# heart_acc\n",
    "heart_conf_mat\n",
    "heart_predictions\n",
    "# MAKE SURE TO CALCULATE THE ACCURACY, RECALL, PRECISION\n",
    "best_k\n",
    "\n",
    "heart_best_k <- workflow() |>\n",
    "        add_recipe(heart_recipe) |>\n",
    "        add_model(spec) |>\n",
    "        tune_grid(resamples = heart_vfold, grid = gridvals) |>\n",
    "        collect_metrics() |>\n",
    "        filter(.metric == \"accuracy\") |>\n",
    "        select(neighbors, mean) |>\n",
    "        mutate(mean = 100*mean)|>\n",
    "        arrange(desc(mean))\n",
    "\n",
    "head(heart_best_k)"
   ]
  },
  {
   "cell_type": "code",
   "execution_count": null,
   "id": "e691620e-0978-45a6-a1b2-0faca21eb374",
   "metadata": {},
   "outputs": [],
   "source": [
    "#checking consistency of our classifier using an additional data set from the data base\n",
    "#switzerland \n",
    "# cross compare the cleveland dataset to the swiss one to see if the model is consistent \n",
    "\n",
    "#load tidied swiss data "
   ]
  },
  {
   "cell_type": "markdown",
   "id": "ce535197-90cb-4f35-8b51-47f218b394b4",
   "metadata": {},
   "source": [
    "discussion section to address\n",
    "- answering/how we answered the question (predictor/class variables) \n",
    "- expected findings compared to outcome and plausible reasoning for this (faridas notes) and relate to classifiers 68% accuracy... and if the classifier is good for cleaveland as it is for switzerland \n",
    "- impact of findings\n",
    "- future questions \n",
    "- bibliography  "
   ]
  },
  {
   "cell_type": "code",
   "execution_count": null,
   "id": "0fd913ad-58d7-4fd0-9b50-7e7133137a33",
   "metadata": {},
   "outputs": [],
   "source": [
    "heart_training_IV <- heart_training |>\n",
    "            mutate(diagnosis = ifelse(diagnosis == TRUE, 1, 0))\n",
    "heart_training_IV\n",
    "IV <- create_infotables(data = heart_training_IV, y = \"diagnosis\")\n",
    "IV$Summary\n",
    "WOE_table <- IV$Tables\n",
    "WOE_table"
   ]
  },
  {
   "cell_type": "code",
   "execution_count": null,
   "id": "98bbb152-7973-48fc-9ad9-0fce1dcebaa8",
   "metadata": {},
   "outputs": [],
   "source": []
  }
 ],
 "metadata": {
  "kernelspec": {
   "display_name": "R",
   "language": "R",
   "name": "ir"
  },
  "language_info": {
   "codemirror_mode": "r",
   "file_extension": ".r",
   "mimetype": "text/x-r-source",
   "name": "R",
   "pygments_lexer": "r",
   "version": "4.3.1"
  }
 },
 "nbformat": 4,
 "nbformat_minor": 5
}
