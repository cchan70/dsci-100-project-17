{
 "cells": [
  {
   "cell_type": "code",
   "execution_count": 9,
   "id": "91798358-4998-4c69-81fe-2252503f7810",
   "metadata": {},
   "outputs": [],
   "source": [
    "library(tidyverse)\n",
    "library(tidymodels)\n",
    "library(repr)\n",
    "library(dplyr)\n",
    "options(repr.matrix.max.rows = 6)"
   ]
  },
  {
   "cell_type": "code",
   "execution_count": 10,
   "id": "75af5a59-13be-4374-9c02-cc8c7f457463",
   "metadata": {},
   "outputs": [
    {
     "name": "stderr",
     "output_type": "stream",
     "text": [
      "\u001b[1mRows: \u001b[22m\u001b[34m303\u001b[39m \u001b[1mColumns: \u001b[22m\u001b[34m14\u001b[39m\n",
      "\u001b[36m──\u001b[39m \u001b[1mColumn specification\u001b[22m \u001b[36m────────────────────────────────────────────────────────\u001b[39m\n",
      "\u001b[1mDelimiter:\u001b[22m \",\"\n",
      "\u001b[32mdbl\u001b[39m (14): age, sex, cp, trestbps, chol, fbs, restecg, thalach, exang, oldpea...\n",
      "\n",
      "\u001b[36mℹ\u001b[39m Use `spec()` to retrieve the full column specification for this data.\n",
      "\u001b[36mℹ\u001b[39m Specify the column types or set `show_col_types = FALSE` to quiet this message.\n"
     ]
    },
    {
     "data": {
      "text/html": [
       "<table class=\"dataframe\">\n",
       "<caption>A tibble: 303 × 6</caption>\n",
       "<thead>\n",
       "\t<tr><th scope=col>chol</th><th scope=col>trestbps</th><th scope=col>fbs_gt_120</th><th scope=col>age</th><th scope=col>sex</th><th scope=col>num</th></tr>\n",
       "\t<tr><th scope=col>&lt;dbl&gt;</th><th scope=col>&lt;dbl&gt;</th><th scope=col>&lt;fct&gt;</th><th scope=col>&lt;dbl&gt;</th><th scope=col>&lt;fct&gt;</th><th scope=col>&lt;dbl&gt;</th></tr>\n",
       "</thead>\n",
       "<tbody>\n",
       "\t<tr><td>233</td><td>145</td><td>true </td><td>63</td><td>male</td><td>0</td></tr>\n",
       "\t<tr><td>286</td><td>160</td><td>false</td><td>67</td><td>male</td><td>2</td></tr>\n",
       "\t<tr><td>229</td><td>120</td><td>false</td><td>67</td><td>male</td><td>1</td></tr>\n",
       "\t<tr><td>⋮</td><td>⋮</td><td>⋮</td><td>⋮</td><td>⋮</td><td>⋮</td></tr>\n",
       "\t<tr><td>131</td><td>130</td><td>false</td><td>57</td><td>male  </td><td>3</td></tr>\n",
       "\t<tr><td>236</td><td>130</td><td>false</td><td>57</td><td>female</td><td>1</td></tr>\n",
       "\t<tr><td>175</td><td>138</td><td>false</td><td>38</td><td>male  </td><td>0</td></tr>\n",
       "</tbody>\n",
       "</table>\n"
      ],
      "text/latex": [
       "A tibble: 303 × 6\n",
       "\\begin{tabular}{llllll}\n",
       " chol & trestbps & fbs\\_gt\\_120 & age & sex & num\\\\\n",
       " <dbl> & <dbl> & <fct> & <dbl> & <fct> & <dbl>\\\\\n",
       "\\hline\n",
       "\t 233 & 145 & true  & 63 & male & 0\\\\\n",
       "\t 286 & 160 & false & 67 & male & 2\\\\\n",
       "\t 229 & 120 & false & 67 & male & 1\\\\\n",
       "\t ⋮ & ⋮ & ⋮ & ⋮ & ⋮ & ⋮\\\\\n",
       "\t 131 & 130 & false & 57 & male   & 3\\\\\n",
       "\t 236 & 130 & false & 57 & female & 1\\\\\n",
       "\t 175 & 138 & false & 38 & male   & 0\\\\\n",
       "\\end{tabular}\n"
      ],
      "text/markdown": [
       "\n",
       "A tibble: 303 × 6\n",
       "\n",
       "| chol &lt;dbl&gt; | trestbps &lt;dbl&gt; | fbs_gt_120 &lt;fct&gt; | age &lt;dbl&gt; | sex &lt;fct&gt; | num &lt;dbl&gt; |\n",
       "|---|---|---|---|---|---|\n",
       "| 233 | 145 | true  | 63 | male | 0 |\n",
       "| 286 | 160 | false | 67 | male | 2 |\n",
       "| 229 | 120 | false | 67 | male | 1 |\n",
       "| ⋮ | ⋮ | ⋮ | ⋮ | ⋮ | ⋮ |\n",
       "| 131 | 130 | false | 57 | male   | 3 |\n",
       "| 236 | 130 | false | 57 | female | 1 |\n",
       "| 175 | 138 | false | 38 | male   | 0 |\n",
       "\n"
      ],
      "text/plain": [
       "    chol trestbps fbs_gt_120 age sex    num\n",
       "1   233  145      true       63  male   0  \n",
       "2   286  160      false      67  male   2  \n",
       "3   229  120      false      67  male   1  \n",
       "⋮   ⋮    ⋮        ⋮          ⋮   ⋮      ⋮  \n",
       "301 131  130      false      57  male   3  \n",
       "302 236  130      false      57  female 1  \n",
       "303 175  138      false      38  male   0  "
      ]
     },
     "metadata": {},
     "output_type": "display_data"
    }
   ],
   "source": [
    "heart_data <- read_csv(\"heart_data.csv\") |>\n",
    "select(chol, trestbps, fbs, age, sex, num) |>\n",
    "mutate(sex = as_factor(sex))|>\n",
    "mutate(sex = fct_recode(sex, \"male\" = \"1\", \"female\" = \"0\")) |>\n",
    "mutate(fbs = as_factor(fbs)) |>\n",
    "mutate(fbs = fct_recode(fbs, \"true\" = \"1\", \"false\" = \"0\")) |>\n",
    "rename(\"fbs_gt_120\" = \"fbs\")\n",
    "heart_data"
   ]
  },
  {
   "cell_type": "code",
   "execution_count": null,
   "id": "db6ce9e7-e538-43cd-8bee-926084e5df89",
   "metadata": {},
   "outputs": [],
   "source": []
  },
  {
   "cell_type": "code",
   "execution_count": null,
   "id": "6ae954b9-6bbb-4804-9a4d-f12fe0c31ed4",
   "metadata": {},
   "outputs": [],
   "source": []
  },
  {
   "cell_type": "code",
   "execution_count": null,
   "id": "aaaf0aa5-7e29-43c4-b3e5-9c9dbb962054",
   "metadata": {},
   "outputs": [],
   "source": []
  },
  {
   "cell_type": "code",
   "execution_count": null,
   "id": "6bd53bff-7f66-41ff-a9a1-bd1d31a05152",
   "metadata": {},
   "outputs": [],
   "source": []
  }
 ],
 "metadata": {
  "kernelspec": {
   "display_name": "R",
   "language": "R",
   "name": "ir"
  },
  "language_info": {
   "codemirror_mode": "r",
   "file_extension": ".r",
   "mimetype": "text/x-r-source",
   "name": "R",
   "pygments_lexer": "r",
   "version": "4.3.1"
  }
 },
 "nbformat": 4,
 "nbformat_minor": 5
}
