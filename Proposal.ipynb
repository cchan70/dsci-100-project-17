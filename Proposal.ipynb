{
 "cells": [
  {
   "cell_type": "code",
   "execution_count": 4,
   "id": "91798358-4998-4c69-81fe-2252503f7810",
   "metadata": {},
   "outputs": [],
   "source": [
    "library(tidyverse)\n",
    "library(tidymodels)\n",
    "library(repr)\n",
    "library(dplyr)"
   ]
  },
  {
   "cell_type": "code",
   "execution_count": 11,
   "id": "75af5a59-13be-4374-9c02-cc8c7f457463",
   "metadata": {},
   "outputs": [
    {
     "name": "stderr",
     "output_type": "stream",
     "text": [
      "\u001b[1mRows: \u001b[22m\u001b[34m303\u001b[39m \u001b[1mColumns: \u001b[22m\u001b[34m14\u001b[39m\n",
      "\u001b[36m──\u001b[39m \u001b[1mColumn specification\u001b[22m \u001b[36m────────────────────────────────────────────────────────\u001b[39m\n",
      "\u001b[1mDelimiter:\u001b[22m \",\"\n",
      "\u001b[32mdbl\u001b[39m (14): age, sex, cp, trestbps, chol, fbs, restecg, thalach, exang, oldpea...\n",
      "\n",
      "\u001b[36mℹ\u001b[39m Use `spec()` to retrieve the full column specification for this data.\n",
      "\u001b[36mℹ\u001b[39m Specify the column types or set `show_col_types = FALSE` to quiet this message.\n"
     ]
    },
    {
     "ename": "ERROR",
     "evalue": "\u001b[1m\u001b[33mError\u001b[39m in `mutate()`:\u001b[22m\n\u001b[1m\u001b[22m\u001b[36mℹ\u001b[39m In argument: `sex = fct_recode(sex, Male = 1, Female = 0)`.\n\u001b[1mCaused by error in `fct_recode()`:\u001b[22m\n\u001b[1m\u001b[22m\u001b[33m!\u001b[39m Each element of `...` must be a named string.\n\u001b[36mℹ\u001b[39m Problems with 2 arguments: Male and Female\n",
     "output_type": "error",
     "traceback": [
      "\u001b[1m\u001b[33mError\u001b[39m in `mutate()`:\u001b[22m\n\u001b[1m\u001b[22m\u001b[36mℹ\u001b[39m In argument: `sex = fct_recode(sex, Male = 1, Female = 0)`.\n\u001b[1mCaused by error in `fct_recode()`:\u001b[22m\n\u001b[1m\u001b[22m\u001b[33m!\u001b[39m Each element of `...` must be a named string.\n\u001b[36mℹ\u001b[39m Problems with 2 arguments: Male and Female\nTraceback:\n",
      "1. mutate(mutate(select(read_csv(\"heart_data.csv\"), chol, trestbps, \n .     fbs, age, sex), sex = as_factor(sex)), sex = fct_recode(sex, \n .     Male = 1, Female = 0))",
      "2. mutate.data.frame(mutate(select(read_csv(\"heart_data.csv\"), chol, \n .     trestbps, fbs, age, sex), sex = as_factor(sex)), sex = fct_recode(sex, \n .     Male = 1, Female = 0))",
      "3. mutate_cols(.data, dplyr_quosures(...), by)",
      "4. withCallingHandlers(for (i in seq_along(dots)) {\n .     poke_error_context(dots, i, mask = mask)\n .     context_poke(\"column\", old_current_column)\n .     new_columns <- mutate_col(dots[[i]], data, mask, new_columns)\n . }, error = dplyr_error_handler(dots = dots, mask = mask, bullets = mutate_bullets, \n .     error_call = error_call, error_class = \"dplyr:::mutate_error\"), \n .     warning = dplyr_warning_handler(state = warnings_state, mask = mask, \n .         error_call = error_call))",
      "5. mutate_col(dots[[i]], data, mask, new_columns)",
      "6. mask$eval_all_mutate(quo)",
      "7. eval()",
      "8. fct_recode(sex, Male = 1, Female = 0)",
      "9. check_recode_levels(...)",
      "10. cli::cli_abort(c(\"Each element of {.arg ...} must be a named string.\", \n  .     i = \"Problems with {length(problems)} argument{?s}: {problems}\"), \n  .     call = call)",
      "11. rlang::abort(message, ..., call = call, use_cli_format = TRUE, \n  .     .frame = .frame)",
      "12. signal_abort(cnd, .file)",
      "13. signalCondition(cnd)",
      "14. (function (cnd) \n  . {\n  .     local_error_context(dots, i = frame[[i_sym]], mask = mask)\n  .     if (inherits(cnd, \"dplyr:::internal_error\")) {\n  .         parent <- error_cnd(message = bullets(cnd))\n  .     }\n  .     else {\n  .         parent <- cnd\n  .     }\n  .     message <- c(cnd_bullet_header(action), i = if (has_active_group_context(mask)) cnd_bullet_cur_group_label())\n  .     abort(message, class = error_class, parent = parent, call = error_call)\n  . })(structure(list(message = structure(\"Each element of `...` must be a named string.\", names = \"\"), \n  .     trace = structure(list(call = list(IRkernel::main(), kernel$run(), \n  .         handle_shell(), executor$execute(msg), tryCatch(evaluate(request$content$code, \n  .             envir = .GlobalEnv, output_handler = oh, stop_on_error = 1L), \n  .             interrupt = function(cond) {\n  .                 log_debug(\"Interrupt during execution\")\n  .                 interrupted <<- TRUE\n  .             }, error = .self$handle_error), tryCatchList(expr, \n  .             classes, parentenv, handlers), tryCatchOne(tryCatchList(expr, \n  .             names[-nh], parentenv, handlers[-nh]), names[nh], \n  .             parentenv, handlers[[nh]]), doTryCatch(return(expr), \n  .             name, parentenv, handler), tryCatchList(expr, names[-nh], \n  .             parentenv, handlers[-nh]), tryCatchOne(expr, names, \n  .             parentenv, handlers[[1L]]), doTryCatch(return(expr), \n  .             name, parentenv, handler), evaluate(request$content$code, \n  .             envir = .GlobalEnv, output_handler = oh, stop_on_error = 1L), \n  .         evaluate_call(expr, parsed$src[[i]], envir = envir, enclos = enclos, \n  .             debug = debug, last = i == length(out), use_try = stop_on_error != \n  .                 2L, keep_warning = keep_warning, keep_message = keep_message, \n  .             log_echo = log_echo, log_warning = log_warning, output_handler = output_handler, \n  .             include_timing = include_timing), timing_fn(handle(ev <- withCallingHandlers(withVisible(eval_with_user_handlers(expr, \n  .             envir, enclos, user_handlers)), warning = wHandler, \n  .             error = eHandler, message = mHandler))), handle(ev <- withCallingHandlers(withVisible(eval_with_user_handlers(expr, \n  .             envir, enclos, user_handlers)), warning = wHandler, \n  .             error = eHandler, message = mHandler)), try(f, silent = TRUE), \n  .         tryCatch(expr, error = function(e) {\n  .             call <- conditionCall(e)\n  .             if (!is.null(call)) {\n  .                 if (identical(call[[1L]], quote(doTryCatch))) \n  .                   call <- sys.call(-4L)\n  .                 dcall <- deparse(call, nlines = 1L)\n  .                 prefix <- paste(\"Error in\", dcall, \": \")\n  .                 LONG <- 75L\n  .                 sm <- strsplit(conditionMessage(e), \"\\n\")[[1L]]\n  .                 w <- 14L + nchar(dcall, type = \"w\") + nchar(sm[1L], \n  .                   type = \"w\")\n  .                 if (is.na(w)) \n  .                   w <- 14L + nchar(dcall, type = \"b\") + nchar(sm[1L], \n  .                     type = \"b\")\n  .                 if (w > LONG) \n  .                   prefix <- paste0(prefix, \"\\n  \")\n  .             }\n  .             else prefix <- \"Error : \"\n  .             msg <- paste0(prefix, conditionMessage(e), \"\\n\")\n  .             .Internal(seterrmessage(msg[1L]))\n  .             if (!silent && isTRUE(getOption(\"show.error.messages\"))) {\n  .                 cat(msg, file = outFile)\n  .                 .Internal(printDeferredWarnings())\n  .             }\n  .             invisible(structure(msg, class = \"try-error\", condition = e))\n  .         }), tryCatchList(expr, classes, parentenv, handlers), \n  .         tryCatchOne(expr, names, parentenv, handlers[[1L]]), \n  .         doTryCatch(return(expr), name, parentenv, handler), withCallingHandlers(withVisible(eval_with_user_handlers(expr, \n  .             envir, enclos, user_handlers)), warning = wHandler, \n  .             error = eHandler, message = mHandler), withVisible(eval_with_user_handlers(expr, \n  .             envir, enclos, user_handlers)), eval_with_user_handlers(expr, \n  .             envir, enclos, user_handlers), eval(expr, envir, \n  .             enclos), eval(expr, envir, enclos), mutate(mutate(select(read_csv(\"heart_data.csv\"), \n  .             chol, trestbps, fbs, age, sex), sex = as_factor(sex)), \n  .             sex = fct_recode(sex, Male = 1, Female = 0)), mutate.data.frame(mutate(select(read_csv(\"heart_data.csv\"), \n  .             chol, trestbps, fbs, age, sex), sex = as_factor(sex)), \n  .             sex = fct_recode(sex, Male = 1, Female = 0)), mutate_cols(.data, \n  .             dplyr_quosures(...), by), withCallingHandlers(for (i in seq_along(dots)) {\n  .             poke_error_context(dots, i, mask = mask)\n  .             context_poke(\"column\", old_current_column)\n  .             new_columns <- mutate_col(dots[[i]], data, mask, \n  .                 new_columns)\n  .         }, error = dplyr_error_handler(dots = dots, mask = mask, \n  .             bullets = mutate_bullets, error_call = error_call, \n  .             error_class = \"dplyr:::mutate_error\"), warning = dplyr_warning_handler(state = warnings_state, \n  .             mask = mask, error_call = error_call)), mutate_col(dots[[i]], \n  .             data, mask, new_columns), mask$eval_all_mutate(quo), \n  .         eval(), fct_recode(sex, Male = 1, Female = 0), check_recode_levels(...), \n  .         cli::cli_abort(c(\"Each element of {.arg ...} must be a named string.\", \n  .             i = \"Problems with {length(problems)} argument{?s}: {problems}\"), \n  .             call = call), rlang::abort(message, ..., call = call, \n  .             use_cli_format = TRUE, .frame = .frame)), parent = c(0L, \n  .     1L, 2L, 3L, 4L, 5L, 6L, 7L, 6L, 9L, 10L, 4L, 12L, 13L, 13L, \n  .     15L, 16L, 17L, 18L, 19L, 13L, 13L, 13L, 23L, 24L, 0L, 0L, \n  .     27L, 28L, 28L, 30L, 31L, 0L, 33L, 34L, 35L), visible = c(TRUE, \n  .     TRUE, TRUE, TRUE, TRUE, TRUE, TRUE, TRUE, TRUE, TRUE, TRUE, \n  .     TRUE, TRUE, TRUE, TRUE, TRUE, TRUE, TRUE, TRUE, TRUE, TRUE, \n  .     TRUE, TRUE, TRUE, TRUE, TRUE, TRUE, TRUE, TRUE, TRUE, TRUE, \n  .     TRUE, TRUE, FALSE, FALSE, FALSE), namespace = c(\"IRkernel\", \n  .     NA, \"IRkernel\", NA, \"base\", \"base\", \"base\", \"base\", \"base\", \n  .     \"base\", \"base\", \"evaluate\", \"evaluate\", \"evaluate\", \"evaluate\", \n  .     \"base\", \"base\", \"base\", \"base\", \"base\", \"base\", \"base\", \"evaluate\", \n  .     \"base\", \"base\", \"dplyr\", \"dplyr\", \"dplyr\", \"base\", \"dplyr\", \n  .     NA, \"dplyr\", \"forcats\", \"forcats\", \"cli\", \"rlang\"), scope = c(\"::\", \n  .     NA, \"local\", NA, \"::\", \"local\", \"local\", \"local\", \"local\", \n  .     \"local\", \"local\", \"::\", \":::\", \"local\", \"local\", \"::\", \"::\", \n  .     \"local\", \"local\", \"local\", \"::\", \"::\", \":::\", \"::\", \"::\", \n  .     \"::\", \":::\", \":::\", \"::\", \":::\", NA, \"local\", \"::\", \":::\", \n  .     \"::\", \"::\"), error_frame = c(FALSE, FALSE, FALSE, FALSE, \n  .     FALSE, FALSE, FALSE, FALSE, FALSE, FALSE, FALSE, FALSE, FALSE, \n  .     FALSE, FALSE, FALSE, FALSE, FALSE, FALSE, FALSE, FALSE, FALSE, \n  .     FALSE, FALSE, FALSE, FALSE, FALSE, FALSE, FALSE, FALSE, FALSE, \n  .     FALSE, TRUE, FALSE, FALSE, FALSE)), row.names = c(NA, -36L\n  .     ), version = 2L, class = c(\"rlang_trace\", \"rlib_trace\", \"tbl\", \n  .     \"data.frame\")), parent = NULL, body = c(i = \"Problems with 2 arguments: Male and Female\"), \n  .     rlang = list(inherit = TRUE), call = fct_recode(sex, Male = 1, \n  .         Female = 0), use_cli_format = TRUE), class = c(\"rlang_error\", \n  . \"error\", \"condition\")))",
      "15. abort(message, class = error_class, parent = parent, call = error_call)",
      "16. signal_abort(cnd, .file)"
     ]
    }
   ],
   "source": [
    "heart_data <- read_csv(\"heart_data.csv\") |>\n",
    "select(chol, trestbps, fbs, age, sex) |>\n",
    "mutate(sex = as_factor(sex))|>\n",
    "mutate(sex = fct_recode(sex, \"Male\" = 1, \"Female\" = 0))\n",
    "heart_data"
   ]
  },
  {
   "cell_type": "code",
   "execution_count": null,
   "id": "db6ce9e7-e538-43cd-8bee-926084e5df89",
   "metadata": {},
   "outputs": [],
   "source": []
  },
  {
   "cell_type": "code",
   "execution_count": null,
   "id": "6ae954b9-6bbb-4804-9a4d-f12fe0c31ed4",
   "metadata": {},
   "outputs": [],
   "source": []
  },
  {
   "cell_type": "code",
   "execution_count": null,
   "id": "aaaf0aa5-7e29-43c4-b3e5-9c9dbb962054",
   "metadata": {},
   "outputs": [],
   "source": []
  },
  {
   "cell_type": "code",
   "execution_count": null,
   "id": "6bd53bff-7f66-41ff-a9a1-bd1d31a05152",
   "metadata": {},
   "outputs": [],
   "source": []
  }
 ],
 "metadata": {
  "kernelspec": {
   "display_name": "R",
   "language": "R",
   "name": "ir"
  },
  "language_info": {
   "codemirror_mode": "r",
   "file_extension": ".r",
   "mimetype": "text/x-r-source",
   "name": "R",
   "pygments_lexer": "r",
   "version": "4.3.1"
  }
 },
 "nbformat": 4,
 "nbformat_minor": 5
}
