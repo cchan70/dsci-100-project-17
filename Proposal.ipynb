{
 "cells": [
  {
   "cell_type": "code",
   "execution_count": 2,
   "id": "91798358-4998-4c69-81fe-2252503f7810",
   "metadata": {},
   "outputs": [
    {
     "name": "stderr",
     "output_type": "stream",
     "text": [
      "── \u001b[1mAttaching core tidyverse packages\u001b[22m ──────────────────────── tidyverse 2.0.0 ──\n",
      "\u001b[32m✔\u001b[39m \u001b[34mdplyr    \u001b[39m 1.1.3     \u001b[32m✔\u001b[39m \u001b[34mreadr    \u001b[39m 2.1.4\n",
      "\u001b[32m✔\u001b[39m \u001b[34mforcats  \u001b[39m 1.0.0     \u001b[32m✔\u001b[39m \u001b[34mstringr  \u001b[39m 1.5.0\n",
      "\u001b[32m✔\u001b[39m \u001b[34mggplot2  \u001b[39m 3.4.4     \u001b[32m✔\u001b[39m \u001b[34mtibble   \u001b[39m 3.2.1\n",
      "\u001b[32m✔\u001b[39m \u001b[34mlubridate\u001b[39m 1.9.3     \u001b[32m✔\u001b[39m \u001b[34mtidyr    \u001b[39m 1.3.0\n",
      "\u001b[32m✔\u001b[39m \u001b[34mpurrr    \u001b[39m 1.0.2     \n",
      "── \u001b[1mConflicts\u001b[22m ────────────────────────────────────────── tidyverse_conflicts() ──\n",
      "\u001b[31m✖\u001b[39m \u001b[34mdplyr\u001b[39m::\u001b[32mfilter()\u001b[39m masks \u001b[34mstats\u001b[39m::filter()\n",
      "\u001b[31m✖\u001b[39m \u001b[34mdplyr\u001b[39m::\u001b[32mlag()\u001b[39m    masks \u001b[34mstats\u001b[39m::lag()\n",
      "\u001b[36mℹ\u001b[39m Use the conflicted package (\u001b[3m\u001b[34m<http://conflicted.r-lib.org/>\u001b[39m\u001b[23m) to force all conflicts to become errors\n",
      "── \u001b[1mAttaching packages\u001b[22m ────────────────────────────────────── tidymodels 1.1.1 ──\n",
      "\n",
      "\u001b[32m✔\u001b[39m \u001b[34mbroom       \u001b[39m 1.0.5     \u001b[32m✔\u001b[39m \u001b[34mrsample     \u001b[39m 1.2.0\n",
      "\u001b[32m✔\u001b[39m \u001b[34mdials       \u001b[39m 1.2.0     \u001b[32m✔\u001b[39m \u001b[34mtune        \u001b[39m 1.1.2\n",
      "\u001b[32m✔\u001b[39m \u001b[34minfer       \u001b[39m 1.0.5     \u001b[32m✔\u001b[39m \u001b[34mworkflows   \u001b[39m 1.1.3\n",
      "\u001b[32m✔\u001b[39m \u001b[34mmodeldata   \u001b[39m 1.2.0     \u001b[32m✔\u001b[39m \u001b[34mworkflowsets\u001b[39m 1.0.1\n",
      "\u001b[32m✔\u001b[39m \u001b[34mparsnip     \u001b[39m 1.1.1     \u001b[32m✔\u001b[39m \u001b[34myardstick   \u001b[39m 1.2.0\n",
      "\u001b[32m✔\u001b[39m \u001b[34mrecipes     \u001b[39m 1.0.8     \n",
      "\n",
      "── \u001b[1mConflicts\u001b[22m ───────────────────────────────────────── tidymodels_conflicts() ──\n",
      "\u001b[31m✖\u001b[39m \u001b[34mscales\u001b[39m::\u001b[32mdiscard()\u001b[39m masks \u001b[34mpurrr\u001b[39m::discard()\n",
      "\u001b[31m✖\u001b[39m \u001b[34mdplyr\u001b[39m::\u001b[32mfilter()\u001b[39m   masks \u001b[34mstats\u001b[39m::filter()\n",
      "\u001b[31m✖\u001b[39m \u001b[34mrecipes\u001b[39m::\u001b[32mfixed()\u001b[39m  masks \u001b[34mstringr\u001b[39m::fixed()\n",
      "\u001b[31m✖\u001b[39m \u001b[34mdplyr\u001b[39m::\u001b[32mlag()\u001b[39m      masks \u001b[34mstats\u001b[39m::lag()\n",
      "\u001b[31m✖\u001b[39m \u001b[34myardstick\u001b[39m::\u001b[32mspec()\u001b[39m masks \u001b[34mreadr\u001b[39m::spec()\n",
      "\u001b[31m✖\u001b[39m \u001b[34mrecipes\u001b[39m::\u001b[32mstep()\u001b[39m   masks \u001b[34mstats\u001b[39m::step()\n",
      "\u001b[34m•\u001b[39m Dig deeper into tidy modeling with R at \u001b[32mhttps://www.tmwr.org\u001b[39m\n",
      "\n"
     ]
    }
   ],
   "source": [
    "library(tidyverse)\n",
    "library(tidymodels)\n",
    "library(repr)\n",
    "library(dplyr)\n",
    "library(RColorBrewer)\n",
    "options(repr.matrix.max.rows = 6)"
   ]
  },
  {
   "cell_type": "code",
   "execution_count": 13,
   "id": "75af5a59-13be-4374-9c02-cc8c7f457463",
   "metadata": {
    "scrolled": true
   },
   "outputs": [
    {
     "name": "stderr",
     "output_type": "stream",
     "text": [
      "\u001b[1mRows: \u001b[22m\u001b[34m303\u001b[39m \u001b[1mColumns: \u001b[22m\u001b[34m14\u001b[39m\n",
      "\u001b[36m──\u001b[39m \u001b[1mColumn specification\u001b[22m \u001b[36m────────────────────────────────────────────────────────\u001b[39m\n",
      "\u001b[1mDelimiter:\u001b[22m \",\"\n",
      "\u001b[32mdbl\u001b[39m (14): age, sex, cp, trestbps, chol, fbs, restecg, thalach, exang, oldpea...\n",
      "\n",
      "\u001b[36mℹ\u001b[39m Use `spec()` to retrieve the full column specification for this data.\n",
      "\u001b[36mℹ\u001b[39m Specify the column types or set `show_col_types = FALSE` to quiet this message.\n"
     ]
    },
    {
     "data": {
      "text/html": [
       "<table class=\"dataframe\">\n",
       "<caption>A tibble: 303 × 6</caption>\n",
       "<thead>\n",
       "\t<tr><th scope=col>chol</th><th scope=col>trestbps</th><th scope=col>fbs_gt_120</th><th scope=col>age</th><th scope=col>sex</th><th scope=col>num</th></tr>\n",
       "\t<tr><th scope=col>&lt;dbl&gt;</th><th scope=col>&lt;dbl&gt;</th><th scope=col>&lt;fct&gt;</th><th scope=col>&lt;dbl&gt;</th><th scope=col>&lt;fct&gt;</th><th scope=col>&lt;fct&gt;</th></tr>\n",
       "</thead>\n",
       "<tbody>\n",
       "\t<tr><td>233</td><td>145</td><td>true </td><td>63</td><td>male</td><td>0</td></tr>\n",
       "\t<tr><td>286</td><td>160</td><td>false</td><td>67</td><td>male</td><td>2</td></tr>\n",
       "\t<tr><td>229</td><td>120</td><td>false</td><td>67</td><td>male</td><td>1</td></tr>\n",
       "\t<tr><td>⋮</td><td>⋮</td><td>⋮</td><td>⋮</td><td>⋮</td><td>⋮</td></tr>\n",
       "\t<tr><td>131</td><td>130</td><td>false</td><td>57</td><td>male  </td><td>3</td></tr>\n",
       "\t<tr><td>236</td><td>130</td><td>false</td><td>57</td><td>female</td><td>1</td></tr>\n",
       "\t<tr><td>175</td><td>138</td><td>false</td><td>38</td><td>male  </td><td>0</td></tr>\n",
       "</tbody>\n",
       "</table>\n"
      ],
      "text/latex": [
       "A tibble: 303 × 6\n",
       "\\begin{tabular}{llllll}\n",
       " chol & trestbps & fbs\\_gt\\_120 & age & sex & num\\\\\n",
       " <dbl> & <dbl> & <fct> & <dbl> & <fct> & <fct>\\\\\n",
       "\\hline\n",
       "\t 233 & 145 & true  & 63 & male & 0\\\\\n",
       "\t 286 & 160 & false & 67 & male & 2\\\\\n",
       "\t 229 & 120 & false & 67 & male & 1\\\\\n",
       "\t ⋮ & ⋮ & ⋮ & ⋮ & ⋮ & ⋮\\\\\n",
       "\t 131 & 130 & false & 57 & male   & 3\\\\\n",
       "\t 236 & 130 & false & 57 & female & 1\\\\\n",
       "\t 175 & 138 & false & 38 & male   & 0\\\\\n",
       "\\end{tabular}\n"
      ],
      "text/markdown": [
       "\n",
       "A tibble: 303 × 6\n",
       "\n",
       "| chol &lt;dbl&gt; | trestbps &lt;dbl&gt; | fbs_gt_120 &lt;fct&gt; | age &lt;dbl&gt; | sex &lt;fct&gt; | num &lt;fct&gt; |\n",
       "|---|---|---|---|---|---|\n",
       "| 233 | 145 | true  | 63 | male | 0 |\n",
       "| 286 | 160 | false | 67 | male | 2 |\n",
       "| 229 | 120 | false | 67 | male | 1 |\n",
       "| ⋮ | ⋮ | ⋮ | ⋮ | ⋮ | ⋮ |\n",
       "| 131 | 130 | false | 57 | male   | 3 |\n",
       "| 236 | 130 | false | 57 | female | 1 |\n",
       "| 175 | 138 | false | 38 | male   | 0 |\n",
       "\n"
      ],
      "text/plain": [
       "    chol trestbps fbs_gt_120 age sex    num\n",
       "1   233  145      true       63  male   0  \n",
       "2   286  160      false      67  male   2  \n",
       "3   229  120      false      67  male   1  \n",
       "⋮   ⋮    ⋮        ⋮          ⋮   ⋮      ⋮  \n",
       "301 131  130      false      57  male   3  \n",
       "302 236  130      false      57  female 1  \n",
       "303 175  138      false      38  male   0  "
      ]
     },
     "metadata": {},
     "output_type": "display_data"
    }
   ],
   "source": [
    "heart_data <- read_csv(\"heart_data.csv\") |>\n",
    "select(chol, trestbps, fbs, age, sex, num) |>\n",
    "mutate(sex = as_factor(sex))|>\n",
    "mutate(sex = fct_recode(sex, \"male\" = \"1\", \"female\" = \"0\")) |>\n",
    "mutate(fbs = as_factor(fbs)) |>\n",
    "mutate(fbs = fct_recode(fbs, \"true\" = \"1\", \"false\" = \"0\")) |>\n",
    "rename(\"fbs_gt_120\" = \"fbs\") |>\n",
    "mutate(num = as_factor(num)) \n",
    "heart_data"
   ]
  },
  {
   "cell_type": "code",
   "execution_count": 27,
   "id": "db6ce9e7-e538-43cd-8bee-926084e5df89",
   "metadata": {},
   "outputs": [
    {
     "ename": "ERROR",
     "evalue": "Error in parse(text = x, srcfile = src): <text>:16:1: unexpected symbol\n15: theme(plot.title = element_text(hjust = 0.5))\n16: heart_data_plot_2\n    ^\n",
     "output_type": "error",
     "traceback": [
      "Error in parse(text = x, srcfile = src): <text>:16:1: unexpected symbol\n15: theme(plot.title = element_text(hjust = 0.5))\n16: heart_data_plot_2\n    ^\nTraceback:\n"
     ]
    }
   ],
   "source": [
    "options(repr.plot.width = 8, repr.plot.height = 5)\n",
    "\n",
    "labels_split_plot <- factor(heart_data, levels = c(\"false\", \"true\"),\n",
    "                            labels = c(\"test\", \"tester\"))\n",
    "\n",
    "heart_data_plot_2 <- heart_data |> \n",
    "            # should be changing true and false to human readable labels \n",
    "            ggplot(aes(x= age, y= trestbps, color = num, fill = num)) +\n",
    "            geom_bar(stat = \"identity\")+ \n",
    "            labs(x= \"Age\", y = \"Resting Blood Pressure \\n (mm Hg)\", fill = \"Diagnosis of Heart Disease (angiographic disease status)\", title = \"Resting Blood Pressure versus Age\", num = \"Diagnosis of Heart Disease\")+ # rename false and true \n",
    "            facet_grid(labeller = as_labeller(c(\"false\" = \"test\", \"true\" = \"tester\", col = vars(fbs_gt_120)) + # add a legend for integers 1 to 4 \n",
    "            theme(text = element_text(size = 12),\n",
    "            legend.position = \"top\", \n",
    "            legend.direction = \"vertical\")+\n",
    "theme(plot.title = element_text(hjust = 0.5))\n",
    "heart_data_plot_2 \n",
    "\n"
   ]
  },
  {
   "cell_type": "code",
   "execution_count": null,
   "id": "46431976-6b8a-4eef-8e48-15abee663c54",
   "metadata": {},
   "outputs": [],
   "source": []
  },
  {
   "cell_type": "code",
   "execution_count": null,
   "id": "37739f2d-b979-45fa-8969-4ea08a5d135b",
   "metadata": {},
   "outputs": [],
   "source": []
  },
  {
   "cell_type": "code",
   "execution_count": null,
   "id": "a1424839-dc0b-4fe1-ab78-a8c2e5676770",
   "metadata": {},
   "outputs": [],
   "source": []
  }
 ],
 "metadata": {
  "kernelspec": {
   "display_name": "R",
   "language": "R",
   "name": "ir"
  },
  "language_info": {
   "codemirror_mode": "r",
   "file_extension": ".r",
   "mimetype": "text/x-r-source",
   "name": "R",
   "pygments_lexer": "r",
   "version": "4.3.1"
  }
 },
 "nbformat": 4,
 "nbformat_minor": 5
}
