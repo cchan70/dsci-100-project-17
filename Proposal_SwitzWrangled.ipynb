{
 "cells": [
  {
   "cell_type": "markdown",
   "id": "5defb0c3-9458-4314-8250-2538b960dcb7",
   "metadata": {},
   "source": [
    "# Using age, cholestrol, maximum heart rate and resting blood pressure to classify heart disease patients from Cleveland #\n",
    "\n",
    "**John Mao, Caitlyn Chan and Ritaksha Roy Burman**\n",
    "\n",
    "\n",
    "### Introduction ###\n",
    "Cardiovascular heart diseases are the leading cause of death worldwide, accounting for an estimated 17.9 million casualties each year according to the [WHO.](https://www.who.int/health-topics/cardiovascular-diseases#tab=tab_1)\n",
    "\n",
    "Our project seeks to use age, cholesterol, maximum heart rate and resting blood pressure to diagnosis individuals with coronary artery disease, (CAD). CAD occurs when the arteries that deliver blood to the heart is reduced in diameter due to plaque buildup (CDC, 2021).\n",
    "\n",
    "The goal of this project is to classify patients of whether they have CAD for preventatitive interventions.\n",
    "\n",
    "The question we wish to answer is: \n",
    "**What is the likelihood a patient will have coronary artery disease based on age, sex, cholestrol levels, resting blood pressure and maximum heart rate achieved?**\n",
    "\n",
    "To answer this, we are using the [heart disease](https://archive.ics.uci.edu/dataset/45/heart+disease) database.\n",
    "\n",
    "We are then comparing this to the Switzerland [switzerland_heart_disease](https://archive.ics.uci.edu/ml/machine-learning-databases/heart-disease/processed.switzerland.data) database."
   ]
  },
  {
   "cell_type": "markdown",
   "id": "492abffa-0151-4f05-8068-a130b26374c2",
   "metadata": {},
   "source": [
    "### Preliminary exploratory data analysis ###\n",
    "We have 303 total rows of data amongst our 5 variables with no observations that contain missing data.\n",
    "\n"
   ]
  },
  {
   "cell_type": "code",
   "execution_count": 1,
   "id": "91798358-4998-4c69-81fe-2252503f7810",
   "metadata": {},
   "outputs": [
    {
     "name": "stderr",
     "output_type": "stream",
     "text": [
      "Warning message:\n",
      "“package ‘ggplot2’ was built under R version 4.3.2”\n",
      "── \u001b[1mAttaching core tidyverse packages\u001b[22m ──────────────────────── tidyverse 2.0.0 ──\n",
      "\u001b[32m✔\u001b[39m \u001b[34mdplyr    \u001b[39m 1.1.3     \u001b[32m✔\u001b[39m \u001b[34mreadr    \u001b[39m 2.1.4\n",
      "\u001b[32m✔\u001b[39m \u001b[34mforcats  \u001b[39m 1.0.0     \u001b[32m✔\u001b[39m \u001b[34mstringr  \u001b[39m 1.5.0\n",
      "\u001b[32m✔\u001b[39m \u001b[34mggplot2  \u001b[39m 3.5.0     \u001b[32m✔\u001b[39m \u001b[34mtibble   \u001b[39m 3.2.1\n",
      "\u001b[32m✔\u001b[39m \u001b[34mlubridate\u001b[39m 1.9.2     \u001b[32m✔\u001b[39m \u001b[34mtidyr    \u001b[39m 1.3.0\n",
      "\u001b[32m✔\u001b[39m \u001b[34mpurrr    \u001b[39m 1.0.2     \n",
      "── \u001b[1mConflicts\u001b[22m ────────────────────────────────────────── tidyverse_conflicts() ──\n",
      "\u001b[31m✖\u001b[39m \u001b[34mdplyr\u001b[39m::\u001b[32mfilter()\u001b[39m masks \u001b[34mstats\u001b[39m::filter()\n",
      "\u001b[31m✖\u001b[39m \u001b[34mdplyr\u001b[39m::\u001b[32mlag()\u001b[39m    masks \u001b[34mstats\u001b[39m::lag()\n",
      "\u001b[36mℹ\u001b[39m Use the conflicted package (\u001b[3m\u001b[34m<http://conflicted.r-lib.org/>\u001b[39m\u001b[23m) to force all conflicts to become errors\n",
      "── \u001b[1mAttaching packages\u001b[22m ────────────────────────────────────── tidymodels 1.1.1 ──\n",
      "\n",
      "\u001b[32m✔\u001b[39m \u001b[34mbroom       \u001b[39m 1.0.5     \u001b[32m✔\u001b[39m \u001b[34mrsample     \u001b[39m 1.2.0\n",
      "\u001b[32m✔\u001b[39m \u001b[34mdials       \u001b[39m 1.2.0     \u001b[32m✔\u001b[39m \u001b[34mtune        \u001b[39m 1.1.2\n",
      "\u001b[32m✔\u001b[39m \u001b[34minfer       \u001b[39m 1.0.5     \u001b[32m✔\u001b[39m \u001b[34mworkflows   \u001b[39m 1.1.3\n",
      "\u001b[32m✔\u001b[39m \u001b[34mmodeldata   \u001b[39m 1.2.0     \u001b[32m✔\u001b[39m \u001b[34mworkflowsets\u001b[39m 1.0.1\n",
      "\u001b[32m✔\u001b[39m \u001b[34mparsnip     \u001b[39m 1.1.1     \u001b[32m✔\u001b[39m \u001b[34myardstick   \u001b[39m 1.2.0\n",
      "\u001b[32m✔\u001b[39m \u001b[34mrecipes     \u001b[39m 1.0.8     \n",
      "\n",
      "── \u001b[1mConflicts\u001b[22m ───────────────────────────────────────── tidymodels_conflicts() ──\n",
      "\u001b[31m✖\u001b[39m \u001b[34mscales\u001b[39m::\u001b[32mdiscard()\u001b[39m masks \u001b[34mpurrr\u001b[39m::discard()\n",
      "\u001b[31m✖\u001b[39m \u001b[34mdplyr\u001b[39m::\u001b[32mfilter()\u001b[39m   masks \u001b[34mstats\u001b[39m::filter()\n",
      "\u001b[31m✖\u001b[39m \u001b[34mrecipes\u001b[39m::\u001b[32mfixed()\u001b[39m  masks \u001b[34mstringr\u001b[39m::fixed()\n",
      "\u001b[31m✖\u001b[39m \u001b[34mdplyr\u001b[39m::\u001b[32mlag()\u001b[39m      masks \u001b[34mstats\u001b[39m::lag()\n",
      "\u001b[31m✖\u001b[39m \u001b[34myardstick\u001b[39m::\u001b[32mspec()\u001b[39m masks \u001b[34mreadr\u001b[39m::spec()\n",
      "\u001b[31m✖\u001b[39m \u001b[34mrecipes\u001b[39m::\u001b[32mstep()\u001b[39m   masks \u001b[34mstats\u001b[39m::step()\n",
      "\u001b[34m•\u001b[39m Use \u001b[32mtidymodels_prefer()\u001b[39m to resolve common conflicts.\n",
      "\n"
     ]
    }
   ],
   "source": [
    "# importing relevant libraries \n",
    "library(tidyverse)\n",
    "library(tidymodels)\n",
    "library(repr)\n",
    "library(dplyr)\n",
    "library(RColorBrewer)\n",
    "options(repr.matrix.max.rows = 6)"
   ]
  },
  {
   "cell_type": "code",
   "execution_count": 11,
   "id": "cedb255b-6f43-4a22-a7af-897c09992524",
   "metadata": {
    "scrolled": true
   },
   "outputs": [
    {
     "name": "stderr",
     "output_type": "stream",
     "text": [
      "\u001b[1mRows: \u001b[22m\u001b[34m303\u001b[39m \u001b[1mColumns: \u001b[22m\u001b[34m14\u001b[39m\n",
      "\u001b[36m──\u001b[39m \u001b[1mColumn specification\u001b[22m \u001b[36m────────────────────────────────────────────────────────\u001b[39m\n",
      "\u001b[1mDelimiter:\u001b[22m \",\"\n",
      "\u001b[32mdbl\u001b[39m (14): age, sex, cp, trestbps, chol, fbs, restecg, thalach, exang, oldpea...\n",
      "\n",
      "\u001b[36mℹ\u001b[39m Use `spec()` to retrieve the full column specification for this data.\n",
      "\u001b[36mℹ\u001b[39m Specify the column types or set `show_col_types = FALSE` to quiet this message.\n",
      "\u001b[1mRows: \u001b[22m\u001b[34m123\u001b[39m \u001b[1mColumns: \u001b[22m\u001b[34m14\u001b[39m\n",
      "\u001b[36m──\u001b[39m \u001b[1mColumn specification\u001b[22m \u001b[36m────────────────────────────────────────────────────────\u001b[39m\n",
      "\u001b[1mDelimiter:\u001b[22m \",\"\n",
      "\u001b[31mchr\u001b[39m (9): X4, X6, X7, X8, X9, X10, X11, X12, X13\n",
      "\u001b[32mdbl\u001b[39m (5): X1, X2, X3, X5, X14\n",
      "\n",
      "\u001b[36mℹ\u001b[39m Use `spec()` to retrieve the full column specification for this data.\n",
      "\u001b[36mℹ\u001b[39m Specify the column types or set `show_col_types = FALSE` to quiet this message.\n"
     ]
    },
    {
     "data": {
      "text/html": [
       "<table class=\"dataframe\">\n",
       "<caption>A tibble: 226 × 7</caption>\n",
       "<thead>\n",
       "\t<tr><th scope=col>chol</th><th scope=col>trestbps</th><th scope=col>age</th><th scope=col>sex</th><th scope=col>thalach</th><th scope=col>num</th><th scope=col>diagnosis</th></tr>\n",
       "\t<tr><th scope=col>&lt;dbl&gt;</th><th scope=col>&lt;dbl&gt;</th><th scope=col>&lt;dbl&gt;</th><th scope=col>&lt;fct&gt;</th><th scope=col>&lt;dbl&gt;</th><th scope=col>&lt;fct&gt;</th><th scope=col>&lt;lgl&gt;</th></tr>\n",
       "</thead>\n",
       "<tbody>\n",
       "\t<tr><td>233</td><td>145</td><td>63</td><td>Male  </td><td>150</td><td>0</td><td>FALSE</td></tr>\n",
       "\t<tr><td>204</td><td>130</td><td>41</td><td>Female</td><td>172</td><td>0</td><td>FALSE</td></tr>\n",
       "\t<tr><td>294</td><td>140</td><td>56</td><td>Female</td><td>153</td><td>0</td><td>FALSE</td></tr>\n",
       "\t<tr><td>⋮</td><td>⋮</td><td>⋮</td><td>⋮</td><td>⋮</td><td>⋮</td><td>⋮</td></tr>\n",
       "\t<tr><td>205</td><td>128</td><td>55</td><td>Female</td><td>130</td><td>3</td><td>TRUE</td></tr>\n",
       "\t<tr><td>176</td><td>164</td><td>59</td><td>Male  </td><td> 90</td><td>3</td><td>TRUE</td></tr>\n",
       "\t<tr><td>131</td><td>130</td><td>57</td><td>Male  </td><td>115</td><td>3</td><td>TRUE</td></tr>\n",
       "</tbody>\n",
       "</table>\n"
      ],
      "text/latex": [
       "A tibble: 226 × 7\n",
       "\\begin{tabular}{lllllll}\n",
       " chol & trestbps & age & sex & thalach & num & diagnosis\\\\\n",
       " <dbl> & <dbl> & <dbl> & <fct> & <dbl> & <fct> & <lgl>\\\\\n",
       "\\hline\n",
       "\t 233 & 145 & 63 & Male   & 150 & 0 & FALSE\\\\\n",
       "\t 204 & 130 & 41 & Female & 172 & 0 & FALSE\\\\\n",
       "\t 294 & 140 & 56 & Female & 153 & 0 & FALSE\\\\\n",
       "\t ⋮ & ⋮ & ⋮ & ⋮ & ⋮ & ⋮ & ⋮\\\\\n",
       "\t 205 & 128 & 55 & Female & 130 & 3 & TRUE\\\\\n",
       "\t 176 & 164 & 59 & Male   &  90 & 3 & TRUE\\\\\n",
       "\t 131 & 130 & 57 & Male   & 115 & 3 & TRUE\\\\\n",
       "\\end{tabular}\n"
      ],
      "text/markdown": [
       "\n",
       "A tibble: 226 × 7\n",
       "\n",
       "| chol &lt;dbl&gt; | trestbps &lt;dbl&gt; | age &lt;dbl&gt; | sex &lt;fct&gt; | thalach &lt;dbl&gt; | num &lt;fct&gt; | diagnosis &lt;lgl&gt; |\n",
       "|---|---|---|---|---|---|---|\n",
       "| 233 | 145 | 63 | Male   | 150 | 0 | FALSE |\n",
       "| 204 | 130 | 41 | Female | 172 | 0 | FALSE |\n",
       "| 294 | 140 | 56 | Female | 153 | 0 | FALSE |\n",
       "| ⋮ | ⋮ | ⋮ | ⋮ | ⋮ | ⋮ | ⋮ |\n",
       "| 205 | 128 | 55 | Female | 130 | 3 | TRUE |\n",
       "| 176 | 164 | 59 | Male   |  90 | 3 | TRUE |\n",
       "| 131 | 130 | 57 | Male   | 115 | 3 | TRUE |\n",
       "\n"
      ],
      "text/plain": [
       "    chol trestbps age sex    thalach num diagnosis\n",
       "1   233  145      63  Male   150     0   FALSE    \n",
       "2   204  130      41  Female 172     0   FALSE    \n",
       "3   294  140      56  Female 153     0   FALSE    \n",
       "⋮   ⋮    ⋮        ⋮   ⋮      ⋮       ⋮   ⋮        \n",
       "224 205  128      55  Female 130     3   TRUE     \n",
       "225 176  164      59  Male    90     3   TRUE     \n",
       "226 131  130      57  Male   115     3   TRUE     "
      ]
     },
     "metadata": {},
     "output_type": "display_data"
    },
    {
     "name": "stdout",
     "output_type": "stream",
     "text": [
      "[1] \"Total rows 303\"\n",
      "[1] \"Rows with missing data 0\"\n"
     ]
    }
   ],
   "source": [
    "# set the seed \n",
    "set.seed(1)\n",
    "\n",
    "# reading the dataframe from a .csv file\n",
    "heart_data <- read_csv(\"heart_data.csv\") \n",
    "\n",
    "# cleaning and wrangling the data frame, selecting relevant columns\n",
    "heart_data_clean <- heart_data |>\n",
    "select(chol, trestbps, age, sex, thalach, num) |>\n",
    "mutate(diagnosis = ifelse(is.na(num), NA, (num>0))) |>\n",
    "mutate(sex = as_factor(sex))|>\n",
    "mutate(sex = fct_recode(sex, \"Male\" = \"1\", \"Female\" = \"0\")) |>\n",
    "mutate(num = as_factor(num)) \n",
    "\n",
    "# cleaning and wrangling the switzerland data frame, putting relevant columns\n",
    "switzerland_data <- read_csv(\"https://archive.ics.uci.edu/ml/machine-learning-databases/heart-disease/processed.switzerland.data\", col_names = FALSE)\n",
    "\n",
    "colnames(switzerland_data) <- c(\"age\", \"sex\", \"cp\", \"trestbps\", \"chol\", \"fbs\", \"restecg\", \"thalach\", \"exang\", \"oldpeak\", \"slope\", \"ca\", \"thal\", \"num\")\n",
    "\n",
    "switzerland_data_clean <- switzerland_data |>\n",
    "select(chol, trestbps, age, sex, thalach, num) |>\n",
    "mutate(diagnosis = ifelse(is.na(num), NA, (num>0))) |>\n",
    "mutate(sex = as_factor(sex))|>\n",
    "mutate(sex = fct_recode(sex, \"Male\" = \"1\", \"Female\" = \"0\")) |>\n",
    "mutate(num = as_factor(num)) \n",
    "\n",
    "# splitting data into training data set and testing data set \n",
    "heart_split <- initial_split(heart_data_clean, prop = 0.75, strata = num)\n",
    "\n",
    "heart_testing <- testing(heart_split)\n",
    "heart_training <- training(heart_split)\n",
    "\n",
    "heart_training\n",
    "print(paste(\"Total rows\", nrow(heart_data_clean)))\n",
    "print(paste(\"Rows with missing data\", sum(is.na(heart_data_clean))))\n",
    "\n"
   ]
  },
  {
   "cell_type": "markdown",
   "id": "080f48ac-1a24-4527-80de-a2dd8764eb56",
   "metadata": {},
   "source": [
    "**Summarizing the Training Data**\n",
    "\n",
    "Before we visualize and begin our prediction analysis, we need to check that the two predictor classes are balanced so that one class prediction is not favored over the other."
   ]
  },
  {
   "cell_type": "markdown",
   "id": "f1b8986c-3fb8-49de-8e35-ec29c4576d9e",
   "metadata": {},
   "source": [
    "|variable | units | desription |\n",
    "|-------- | ----- | ---------- |\n",
    "| chol | mg/dl | serum cholestrol |\n",
    "| age | years | N/A |\n",
    "| trestbps | mmHg | resting blood pressure (on admission to hospital) |\n",
    "| num | N/A | 0 = unafflicted by disease, (1,2,3,4) showing presense of heart disease. |\n",
    "| thalach | N/A | maximum heart rate achieved (bpm) |\n",
    "| diagnosis | N/A | Diagnosis will be true or false relating to num |"
   ]
  },
  {
   "cell_type": "code",
   "execution_count": 18,
   "id": "de8ff1d7-7437-423d-9edc-1190bc5b6620",
   "metadata": {},
   "outputs": [
    {
     "data": {
      "text/html": [
       "<table class=\"dataframe\">\n",
       "<caption>A tibble: 2 × 2</caption>\n",
       "<thead>\n",
       "\t<tr><th scope=col>diagnosis</th><th scope=col>count</th></tr>\n",
       "\t<tr><th scope=col>&lt;lgl&gt;</th><th scope=col>&lt;int&gt;</th></tr>\n",
       "</thead>\n",
       "<tbody>\n",
       "\t<tr><td>FALSE</td><td>124</td></tr>\n",
       "\t<tr><td> TRUE</td><td>102</td></tr>\n",
       "</tbody>\n",
       "</table>\n"
      ],
      "text/latex": [
       "A tibble: 2 × 2\n",
       "\\begin{tabular}{ll}\n",
       " diagnosis & count\\\\\n",
       " <lgl> & <int>\\\\\n",
       "\\hline\n",
       "\t FALSE & 124\\\\\n",
       "\t  TRUE & 102\\\\\n",
       "\\end{tabular}\n"
      ],
      "text/markdown": [
       "\n",
       "A tibble: 2 × 2\n",
       "\n",
       "| diagnosis &lt;lgl&gt; | count &lt;int&gt; |\n",
       "|---|---|\n",
       "| FALSE | 124 |\n",
       "|  TRUE | 102 |\n",
       "\n"
      ],
      "text/plain": [
       "  diagnosis count\n",
       "1 FALSE     124  \n",
       "2  TRUE     102  "
      ]
     },
     "metadata": {},
     "output_type": "display_data"
    }
   ],
   "source": [
    "heart_summary_table <- heart_training |>\n",
    "                    group_by(diagnosis) |>\n",
    "                    summarize(count = n()) |>\n",
    "                    arrange(-count)\n",
    "heart_summary_table"
   ]
  },
  {
   "cell_type": "markdown",
   "id": "419a793c-458d-474d-b1f9-8781b4d17f98",
   "metadata": {},
   "source": [
    "Based off the above summary table, the counts for TRUE and FALSE heart disease diagnoses are balanced in the training set. "
   ]
  },
  {
   "cell_type": "code",
   "execution_count": null,
   "id": "db6ce9e7-e538-43cd-8bee-926084e5df89",
   "metadata": {
    "scrolled": true
   },
   "outputs": [],
   "source": [
    "options(repr.plot.width = 12, repr.plot.height = 5)\n",
    "# Plot the training data\n",
    "\n",
    "heart_plot1 <- heart_training |> \n",
    "            ggplot(aes(x= age, y= trestbps, color = diagnosis)) +\n",
    "            geom_point()+ \n",
    "            labs(x= \"Age\", y = \"Resting Blood Pressure \\n (mm Hg)\", fill = \"Diagnosis of Heart Disease\", color = \"Diagnosis of Heart Disease\", title = \"Resting Blood Pressure versus Age\", num = \"Diagnosis of Heart Disease\")+ # rename false and true \n",
    "            theme(text = element_text(size = 12))+\n",
    "            theme(plot.title = element_text(hjust = 0.5))\n",
    "heart_plot1\n",
    "\n",
    "\n",
    "heart_plot2 <- heart_training |>\n",
    "mutate(num = ifelse(num == 0, FALSE, TRUE)) |>\n",
    "ggplot(aes(x = age, y = chol, color = num)) + \n",
    "  geom_point() +\n",
    "  labs(num = \"Diagnosis of Heart Disease\",\n",
    "       color = \"Diagnosis of Heart Disease\",\n",
    "       title = \"Diagnosis of Heart Disease versus Cholesterol (mg/dl) and Age\",\n",
    "       y = \"Cholesterol (mg/dl)\", x= \"Age (years)\") +\n",
    "    theme(text = element_text(size = 13)) +\n",
    "    scale_size_discrete(range = c(1, 2)) +\n",
    "    facet_grid(cols = vars(sex))+\n",
    "    theme(plot.title = element_text(hjust = 0.5))\n",
    "\n",
    "\n",
    "heart_plot2\n",
    "\n",
    "heart_plot3 <- heart_training |> \n",
    "            ggplot(aes(x= chol, y= thalach, color = diagnosis)) +\n",
    "            geom_point()+ \n",
    "            labs(x= \"Cholestrol (mg/dl)\", y = \"Maximum Heart Rate (bpm)\", fill = \"Diagnosis of Heart Disease\", color = \"Diagnosis of Heart Disease\", title = \"Resting Blood Pressure versus Age\", num = \"Diagnosis of Heart Disease\")+ # rename false and true \n",
    "            theme(text = element_text(size = 12))+\n",
    "            theme(plot.title = element_text(hjust = 0.5))\n",
    "heart_plot3\n",
    "\n"
   ]
  },
  {
   "cell_type": "markdown",
   "id": "da3ef1ff-f8c9-43ed-86d2-7efaf583c959",
   "metadata": {},
   "source": [
    "\n",
    "### Methods ###\n",
    "We will be using variables from the Heart Disease Database, in particular the Cleaveland database:\n",
    "- chol : serium cholestoral in mg/dl\n",
    "- age : age in years\n",
    "- trestbps : resting blood pressure (in mm Hg on admission to hospital)\n",
    "- sex\n",
    "- num : 0 = unafflicted by disease, (1,2,3,4) showing presense of heart disease.\n",
    "- thalach: maximum heart rate achieved (bpm) \n",
    "\n",
    "To tidy the data, we have changed the sex and num (presense of heart disease) to factors. **num** uses integers 1 to 4 to determine diagnosis of CAD, thus we have created a new column which sets presence of heart disease (**num** > 0) to TRUE and absence (**num** = 0) to FALSE. \n",
    "\n",
    "The dataframe has been split into a training and testing set. The data is stratified by the categorical variable, **diagnosis**. \n",
    "\n",
    "To visualize the results of our data analysis, scatterplots of different numerical variables were plotted against eachother. \n",
    "\n",
    "* In the plot of **trestbp vs age**\n",
    "\n",
    "A distinct region of resting blood pressure is high in the ages of 50 to 70. \n",
    "\n",
    "* In the plot of **chol vs age**\n",
    "\n",
    "Women in the ages of 55-65 appear to be at risk whereas men appear to be at risk from ages 45 - 70.\n",
    "\n",
    "* In the plot of **thalach vs chol**\n",
    "\n",
    "There are distinct regions of TRUE and FALSE, and a mix of both. \n",
    "\n",
    "These relationships and distribution determined selection of **trestbp, age, thalach and chol** as predictors. \n",
    "\n",
    "We are going to train and classify using K-nearest neighbours to determine if a new patient is likely to be afflicted by heart disease.\n",
    "\n",
    "### Expected Outcomes and Significance ##\n",
    "We expect to see a positive trend with resting blood pressure and age. We also expect to see that on average, those  with heart diseases will have higher blood pressures.\n",
    "We wish to explore how sex impacts an individual's potential risk.\n",
    "\n",
    "This data anaylsis could be advantageous to enhance timely diagnosis of cardiovascular disease to help implement interventions and recognize risk factors. \n",
    "\n",
    "Future questions this could lead to: \n",
    "1. Which of the factors have the greatest influence on diagnosis of CAD?\n",
    "2. What are some preventative measures one can take to minimize risk of heart disease?\n",
    "\n",
    "\n",
    "### Bibliography ### \n",
    "\n",
    "Detrano, R., Janois, A., Steinbrunn, W., Pfisterer, Matthias., Schmid, Johann-Jakob., Sandhu, S., Guppy, KH., Lee, S., Froelicher, V. (1988). International Application of a New Probability Algorithm for the Diagnosis of Coronary Artery Disease. *The American Journal of Cardiology*, 64(1), 304-309.  https://doi.org/10.24432/C52P4X.\n",
    "\n",
    "Coronary Artery Disease. (2021, July 19). Centers for Disease Control and Prevention (CDC). https://www.cdc.gov/heartdisease/coronary_ad.htm\n",
    "\r\n",
    "\n",
    "Janosi, A ., Steinbrunn, W., Pfisterer, M., and Detrano, R. (1988). Heart Disease. UCI Machine Learning Repository. https://doi.org/10.24432/C52P4X.\n",
    "\n",
    "World Health Organization. (n.d.). https://www.who.int/health-topics/cardiovascular-diseases#tab=tab_1. \r\n",
    "\n",
    "\r\n",
    "\n",
    "\n",
    "    "
   ]
  },
  {
   "cell_type": "code",
   "execution_count": null,
   "id": "0fc0af4f-0f1e-4002-b5bb-699e2eb5ea37",
   "metadata": {},
   "outputs": [],
   "source": []
  }
 ],
 "metadata": {
  "kernelspec": {
   "display_name": "R",
   "language": "R",
   "name": "ir"
  },
  "language_info": {
   "codemirror_mode": "r",
   "file_extension": ".r",
   "mimetype": "text/x-r-source",
   "name": "R",
   "pygments_lexer": "r",
   "version": "4.3.1"
  }
 },
 "nbformat": 4,
 "nbformat_minor": 5
}
